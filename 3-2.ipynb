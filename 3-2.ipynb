{
 "cells": [
  {
   "cell_type": "markdown",
   "metadata": {},
   "source": [
    "###조건문 : 프로그램의 흐름 제어"
   ]
  },
  {
   "cell_type": "code",
   "execution_count": 1,
   "metadata": {},
   "outputs": [],
   "source": [
    "num = 20"
   ]
  },
  {
   "cell_type": "code",
   "execution_count": 2,
   "metadata": {},
   "outputs": [
    {
     "name": "stdout",
     "output_type": "stream",
     "text": [
      "num은 10보다 큰 숫자입니다.\n"
     ]
    }
   ],
   "source": [
    "if num>10 :\n",
    "\tprint('num은 10보다 큰 숫자입니다.')"
   ]
  },
  {
   "cell_type": "code",
   "execution_count": 3,
   "metadata": {},
   "outputs": [],
   "source": [
    "if num<10 :\n",
    "\tprint('num은 10보다 작은 숫자입니다.')"
   ]
  },
  {
   "cell_type": "code",
   "execution_count": 4,
   "metadata": {},
   "outputs": [],
   "source": [
    "age = 0"
   ]
  },
  {
   "cell_type": "code",
   "execution_count": 5,
   "metadata": {},
   "outputs": [],
   "source": [
    "if age :\n",
    "\tprint (age)"
   ]
  },
  {
   "cell_type": "code",
   "execution_count": 6,
   "metadata": {},
   "outputs": [
    {
     "name": "stdout",
     "output_type": "stream",
     "text": [
      "20\n"
     ]
    }
   ],
   "source": [
    "age = 20\n",
    "if age :\n",
    "\tprint (age)"
   ]
  },
  {
   "cell_type": "code",
   "execution_count": 7,
   "metadata": {},
   "outputs": [],
   "source": [
    "age = 15"
   ]
  },
  {
   "cell_type": "code",
   "execution_count": 8,
   "metadata": {},
   "outputs": [
    {
     "name": "stdout",
     "output_type": "stream",
     "text": [
      "미성년입니다.\n"
     ]
    }
   ],
   "source": [
    "if age>18 :\n",
    "\tprint('성인입니다.')\n",
    "else :\n",
    "\tprint ('미성년입니다.')"
   ]
  },
  {
   "cell_type": "code",
   "execution_count": 9,
   "metadata": {},
   "outputs": [],
   "source": [
    "# 학점을 판별하는 제어문\n",
    "score = 55"
   ]
  },
  {
   "cell_type": "code",
   "execution_count": 10,
   "metadata": {},
   "outputs": [
    {
     "name": "stdout",
     "output_type": "stream",
     "text": [
      "F학점\n"
     ]
    }
   ],
   "source": [
    "if score >= 90 :\n",
    "\tprint('A학점')\n",
    "else :\n",
    "\tif score >= 80 :\n",
    "\t\tprint ('B학점')\n",
    "\telse :\n",
    "\t\tif score >= 70 :\n",
    "\t\t\tprint('C학점')\n",
    "\t\telse :\n",
    "\t\t\tif score >= 60 :\n",
    "\t\t\t\tprint ('D학점')\n",
    "\t\t\telse :\n",
    "\t\t\t\tprint ('F학점')"
   ]
  },
  {
   "cell_type": "code",
   "execution_count": 11,
   "metadata": {},
   "outputs": [
    {
     "name": "stdout",
     "output_type": "stream",
     "text": [
      "F학점\n"
     ]
    }
   ],
   "source": [
    "if score >= 90 :\n",
    "\tprint ('A학점')\n",
    "elif score >= 80 : # score < 90 and score >= 80\n",
    "\tprint('B학점')\n",
    "elif score >= 70 :\n",
    "\tprint('C학점')\n",
    "elif score >= 60 :\n",
    "\tprint ('D학점')\n",
    "else :\n",
    "\tprint('F학점')"
   ]
  },
  {
   "cell_type": "code",
   "execution_count": 12,
   "metadata": {},
   "outputs": [],
   "source": [
    "# 숫자를 입력받아 짝수 / 홀수 판별하는 프로그램"
   ]
  },
  {
   "cell_type": "code",
   "execution_count": 13,
   "metadata": {},
   "outputs": [],
   "source": [
    "str = input('숫자를 입력하세요 >>>')"
   ]
  },
  {
   "cell_type": "code",
   "execution_count": 14,
   "metadata": {},
   "outputs": [],
   "source": [
    "# 문자열 -> 숫자(정수)\n",
    "num = int (str)"
   ]
  },
  {
   "cell_type": "code",
   "execution_count": 15,
   "metadata": {},
   "outputs": [],
   "source": [
    "#print(type(num))"
   ]
  },
  {
   "cell_type": "code",
   "execution_count": 16,
   "metadata": {},
   "outputs": [
    {
     "name": "stdout",
     "output_type": "stream",
     "text": [
      "입력한 숫자는 짝수입니다.\n"
     ]
    }
   ],
   "source": [
    "if num % 2 == 0 :\n",
    "\tprint('입력한 숫자는 짝수입니다.')\n",
    "else :\n",
    "\tprint('입력한 숫자는 홀수입니다.')"
   ]
  },
  {
   "cell_type": "code",
   "execution_count": null,
   "metadata": {},
   "outputs": [],
   "source": [
    "# 숫자를 입력받아 양수, 0, 음수 판별하는 프로그램"
   ]
  },
  {
   "cell_type": "code",
   "execution_count": null,
   "metadata": {},
   "outputs": [],
   "source": [
    "num = int(input('숫자를 입력하세요 >>>'))"
   ]
  },
  {
   "cell_type": "code",
   "execution_count": null,
   "metadata": {},
   "outputs": [
    {
     "name": "stdout",
     "output_type": "stream",
     "text": [
      "입력한 숫자는 양수입니다.\n"
     ]
    }
   ],
   "source": [
    "if num > 0 :\n",
    "\tprint('입력한 숫자는 양수입니다.')\n",
    "elif num < 0 :\n",
    "\tprint('입력한 숫자는 음수입니다.')\n",
    "else :\n",
    "\tprint('입력한 숫자는 0입니다.')"
   ]
  },
  {
   "cell_type": "code",
   "execution_count": null,
   "metadata": {},
   "outputs": [],
   "source": [
    "# 15세미만 혹은(또는) 65세 이상의 경우 무료 예방접종이 가능하다 -> 판별하는 프로그램"
   ]
  },
  {
   "cell_type": "code",
   "execution_count": null,
   "metadata": {},
   "outputs": [],
   "source": [
    "age = int(input('나이를 입력하세요 >>>'))"
   ]
  },
  {
   "cell_type": "code",
   "execution_count": null,
   "metadata": {},
   "outputs": [
    {
     "name": "stdout",
     "output_type": "stream",
     "text": [
      "무료 접종 대상자가 아닙니다.\n"
     ]
    }
   ],
   "source": [
    "if age < 15 or age >= 65 :\n",
    "\tprint('무료 접종이 가능합니다.')\n",
    "else :\n",
    "\tprint('무료 접종 대상자가 아닙니다.')"
   ]
  },
  {
   "cell_type": "code",
   "execution_count": null,
   "metadata": {},
   "outputs": [
    {
     "name": "stdout",
     "output_type": "stream",
     "text": [
      "2024 1988 36\n"
     ]
    }
   ],
   "source": [
    "# 올해 년도와 태어난 년도를 받자 !\n",
    "# 대한민국 성인의 20세 이상의 경우 2년마다 검진이 가능\n",
    "# 짝수해에 태어난 사람은 올해가 짝수년도라면 검진 대상이 된다.\n",
    "# 홀수년도 태어난 사람은 홀수년도에 검진 대상자가 된다.\n",
    "# 나이가 40세 이상이면 암검사 대상이다!\n",
    "# 올해 년도 입력\n",
    "year = int(input('올해 년도를 입력하세요 >>> '))\n",
    "birth_year = int(input('태어난 년도를 입력하세요 >>> '))\n",
    "age = year-birth_year\n",
    "print(year, birth_year, age)"
   ]
  },
  {
   "cell_type": "code",
   "execution_count": null,
   "metadata": {},
   "outputs": [
    {
     "name": "stdout",
     "output_type": "stream",
     "text": [
      "대상여부 True\n",
      "대상여부 True\n"
     ]
    }
   ],
   "source": [
    "# 올해년도의 짝/홀수에 따라 태어난 년도의 짝/홀수 동일 여부 판단\n",
    "check1 = year%2 == birth_year%2\n",
    "print('대상여부', check1)\n",
    "check2 = (year + birth_year)%2 == 0\n",
    "print('대상여부', check2)"
   ]
  },
  {
   "cell_type": "code",
   "execution_count": null,
   "metadata": {},
   "outputs": [
    {
     "name": "stdout",
     "output_type": "stream",
     "text": [
      "건강검진 대상자입니다.\n"
     ]
    }
   ],
   "source": [
    "if check1 and age >= 20 :\n",
    "\tprint('건강검진 대상자입니다.')\n",
    "\t# 암검진 대상 판별\n",
    "\tif age >= 40 :\n",
    "\t\tprint('무료 암검진 대상자입니다.')\n",
    "else :\n",
    "\tprint('올해는 검진 대상자가 아닙니다.')"
   ]
  }
 ],
 "metadata": {
  "kernelspec": {
   "display_name": "Python 3",
   "language": "python",
   "name": "python3"
  },
  "language_info": {
   "codemirror_mode": {
    "name": "ipython",
    "version": 3
   },
   "file_extension": ".py",
   "mimetype": "text/x-python",
   "name": "python",
   "nbconvert_exporter": "python",
   "pygments_lexer": "ipython3",
   "version": "3.12.5"
  }
 },
 "nbformat": 4,
 "nbformat_minor": 2
}
