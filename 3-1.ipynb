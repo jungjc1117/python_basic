{
 "cells": [
  {
   "cell_type": "markdown",
   "metadata": {},
   "source": [
    "###반복문 : while"
   ]
  },
  {
   "cell_type": "code",
   "execution_count": 2,
   "metadata": {},
   "outputs": [
    {
     "name": "stdout",
     "output_type": "stream",
     "text": [
      "0\n",
      "1\n",
      "2\n",
      "3\n",
      "4\n",
      "프로그램이 종료합니다.\n"
     ]
    }
   ],
   "source": [
    "num = 0 # 초기값의 역할, 값이 증가, 반복문의 탈출을 위한 값\n",
    "\n",
    "while num < 5 :\n",
    "    print(num)\n",
    "    num += 1 # 증가식이 반복문의 탈출 식\n",
    "\n",
    "print('프로그램이 종료합니다.')"
   ]
  },
  {
   "cell_type": "code",
   "execution_count": 3,
   "metadata": {},
   "outputs": [
    {
     "name": "stdout",
     "output_type": "stream",
     "text": [
      "0\n",
      "1\n",
      "2\n",
      "3\n",
      "4\n",
      "프로그램이 종료됩니다.\n"
     ]
    }
   ],
   "source": [
    "num = 0\n",
    "\n",
    "while True :\n",
    "\n",
    "    if num > 4 :\n",
    "        break # 감싸고 있는 반복 블록을 벗어난다!\n",
    "\n",
    "    print (num)\n",
    "    num += 1\n",
    "\n",
    "print('프로그램이 종료됩니다.')"
   ]
  },
  {
   "cell_type": "code",
   "execution_count": 4,
   "metadata": {},
   "outputs": [
    {
     "name": "stdout",
     "output_type": "stream",
     "text": [
      "1\n",
      "3\n",
      "5\n",
      "7\n",
      "9\n",
      "프로그램이 종료합니다.\n"
     ]
    }
   ],
   "source": [
    "# 1~10 까지 사이의 숫자 중 홀수 만을 출력\n",
    "num = 1\n",
    "while num <= 10 :\n",
    "    if num%2 == 1 :\n",
    "        print (num)\n",
    "    num += 1\n",
    "print('프로그램이 종료합니다.')"
   ]
  },
  {
   "cell_type": "code",
   "execution_count": 5,
   "metadata": {},
   "outputs": [
    {
     "name": "stdout",
     "output_type": "stream",
     "text": [
      "1\n",
      "3\n",
      "5\n",
      "7\n",
      "9\n",
      "프로그램이 종료합니다.\n"
     ]
    }
   ],
   "source": [
    "# 1~10 까지 사이의 숫자 중 홀수 만을 출력\n",
    "num = 0\n",
    "while num < 10 :\n",
    "    num += 1\n",
    "    if num%2 == 0 : # 짝수\n",
    "        continue\n",
    "    print (num)\n",
    "print('프로그램이 종료합니다.')"
   ]
  },
  {
   "cell_type": "markdown",
   "metadata": {},
   "source": [
    "### 반복문 : for + range()"
   ]
  },
  {
   "cell_type": "code",
   "execution_count": 6,
   "metadata": {},
   "outputs": [
    {
     "name": "stdout",
     "output_type": "stream",
     "text": [
      "0\n",
      "1\n",
      "2\n",
      "3\n",
      "4\n"
     ]
    }
   ],
   "source": [
    "# 0~4 숫자 출력 I\n",
    "\n",
    "for i in range(5) : # 0~5 , 5까지 처리가 아닌 5를 만나면 종료 => 0~4\n",
    "    print(i)"
   ]
  },
  {
   "cell_type": "code",
   "execution_count": 7,
   "metadata": {},
   "outputs": [
    {
     "name": "stdout",
     "output_type": "stream",
     "text": [
      "2\n",
      "3\n",
      "4\n",
      "5\n"
     ]
    }
   ],
   "source": [
    "# 2~5 숫자 출력\n",
    "\n",
    "for i in range(2,6) : # 0~5\n",
    "    print (i)"
   ]
  },
  {
   "cell_type": "code",
   "execution_count": 8,
   "metadata": {},
   "outputs": [
    {
     "name": "stdout",
     "output_type": "stream",
     "text": [
      "1\n",
      "3\n",
      "5\n",
      "7\n",
      "9\n"
     ]
    }
   ],
   "source": [
    "# 1~10 까지의 숫자중 홀수만 출력\n",
    "for i in range(1, 11, 2) : # 1~10 : 1, 3, 5, 7, 9\n",
    "    print (i)"
   ]
  },
  {
   "cell_type": "code",
   "execution_count": 9,
   "metadata": {},
   "outputs": [],
   "source": [
    "# 시퀀스 자료형 : 리스트, 튜플, 문자열, range"
   ]
  },
  {
   "cell_type": "code",
   "execution_count": 10,
   "metadata": {},
   "outputs": [
    {
     "name": "stdout",
     "output_type": "stream",
     "text": [
      "안\n",
      "녕\n",
      "하\n",
      "세\n",
      "요\n",
      "!\n"
     ]
    }
   ],
   "source": [
    "str = '안녕하세요!'\n",
    "for s in str :\n",
    "    print(s)"
   ]
  },
  {
   "cell_type": "code",
   "execution_count": 11,
   "metadata": {},
   "outputs": [
    {
     "name": "stdout",
     "output_type": "stream",
     "text": [
      "10\n",
      "20\n",
      "30\n",
      "40\n"
     ]
    }
   ],
   "source": [
    "list = [10,20,30,40]\n",
    "for item in list:\n",
    "    print(item)"
   ]
  },
  {
   "cell_type": "code",
   "execution_count": 12,
   "metadata": {},
   "outputs": [
    {
     "name": "stdout",
     "output_type": "stream",
     "text": [
      "10\n",
      "20\n",
      "30\n",
      "40\n"
     ]
    }
   ],
   "source": [
    "tuple_temp = (10,20,30,40)\n",
    "for item in tuple_temp :\n",
    "    print (item)"
   ]
  },
  {
   "cell_type": "markdown",
   "metadata": {},
   "source": [
    "### 반복문의 활용"
   ]
  },
  {
   "cell_type": "code",
   "execution_count": 13,
   "metadata": {},
   "outputs": [
    {
     "name": "stdout",
     "output_type": "stream",
     "text": [
      "1~100 까지의 숫자들의 합 :  5050\n"
     ]
    }
   ],
   "source": [
    "# 1 부터 100짜지의 합을 구하는 프로그램\n",
    "sum = 0\n",
    "\n",
    "for i in range(1, 101):\n",
    "    # sum = sum + i\n",
    "    # 합을 구하는 식\n",
    "    sum += i\n",
    "\n",
    "    #print(i)\n",
    "\n",
    "print('1~100 까지의 숫자들의 합 : ', sum)"
   ]
  },
  {
   "cell_type": "code",
   "execution_count": 16,
   "metadata": {},
   "outputs": [
    {
     "name": "stdout",
     "output_type": "stream",
     "text": [
      "1~100 까지의 숫자의 합 :  5050\n"
     ]
    }
   ],
   "source": [
    "num = 1\n",
    "sum = 0\n",
    "\n",
    "while num<101 :\n",
    "    sum += num\n",
    "    num += 1\n",
    "\n",
    "print('1~100 까지의 숫자의 합 : ', sum)"
   ]
  },
  {
   "cell_type": "code",
   "execution_count": 15,
   "metadata": {},
   "outputs": [
    {
     "name": "stdout",
     "output_type": "stream",
     "text": [
      "1~10 까지의 곱의 결과 :  3628800\n"
     ]
    }
   ],
   "source": [
    "# 반복문을 이용해서 1~10까지의 숫자들을 곱해보자 결과 출력\n",
    "\n",
    "result = 1# 1*2*3*4 *...* 10\n",
    "\n",
    "for i in range(1,11) :\n",
    "    result = result * i\n",
    "\n",
    "print('1~10 까지의 곱의 결과 : ', result)"
   ]
  },
  {
   "cell_type": "code",
   "execution_count": 17,
   "metadata": {},
   "outputs": [
    {
     "name": "stdout",
     "output_type": "stream",
     "text": [
      "1~10 까지의 곱의 결과 :  3628800\n"
     ]
    }
   ],
   "source": [
    "num = 1\n",
    "result = 1\n",
    "\n",
    "while num<11 :\n",
    "    result *= num\n",
    "    num += 1\n",
    "\n",
    "print('1~10 까지의 곱의 결과 : ',result)"
   ]
  },
  {
   "cell_type": "code",
   "execution_count": 18,
   "metadata": {},
   "outputs": [
    {
     "name": "stdout",
     "output_type": "stream",
     "text": [
      "2 x 1 = 2\n",
      "2 x 2 = 4\n",
      "2 x 3 = 6\n",
      "2 x 4 = 8\n",
      "2 x 5 = 10\n",
      "2 x 6 = 12\n",
      "2 x 7 = 14\n",
      "2 x 8 = 16\n",
      "2 x 9 = 18\n",
      "4 x 1 = 4\n",
      "4 x 2 = 8\n",
      "4 x 3 = 12\n",
      "4 x 4 = 16\n",
      "4 x 5 = 20\n",
      "4 x 6 = 24\n",
      "4 x 7 = 28\n",
      "4 x 8 = 32\n",
      "4 x 9 = 36\n",
      "6 x 1 = 6\n",
      "6 x 2 = 12\n",
      "6 x 3 = 18\n",
      "6 x 4 = 24\n",
      "6 x 5 = 30\n",
      "6 x 6 = 36\n",
      "6 x 7 = 42\n",
      "6 x 8 = 48\n",
      "6 x 9 = 54\n",
      "8 x 1 = 8\n",
      "8 x 2 = 16\n",
      "8 x 3 = 24\n",
      "8 x 4 = 32\n",
      "8 x 5 = 40\n",
      "8 x 6 = 48\n",
      "8 x 7 = 56\n",
      "8 x 8 = 64\n",
      "8 x 9 = 72\n"
     ]
    }
   ],
   "source": [
    "# 구구단 짝수단만 출력\n",
    "\n",
    "for i in range(2,10, 2) :\n",
    "    #print(i)\n",
    "        for j in range(1,10):\n",
    "            print(i, 'x', j, '=', i*j)"
   ]
  },
  {
   "cell_type": "code",
   "execution_count": 19,
   "metadata": {},
   "outputs": [
    {
     "name": "stdout",
     "output_type": "stream",
     "text": [
      "2 x 1 = 2\n",
      "2 x 2 = 4\n",
      "4 x 1 = 4\n",
      "4 x 2 = 8\n",
      "4 x 3 = 12\n",
      "4 x 4 = 16\n",
      "6 x 1 = 6\n",
      "6 x 2 = 12\n",
      "6 x 3 = 18\n",
      "6 x 4 = 24\n",
      "6 x 5 = 30\n",
      "6 x 6 = 36\n",
      "8 x 1 = 8\n",
      "8 x 2 = 16\n",
      "8 x 3 = 24\n",
      "8 x 4 = 32\n",
      "8 x 5 = 40\n",
      "8 x 6 = 48\n",
      "8 x 7 = 56\n",
      "8 x 8 = 64\n"
     ]
    }
   ],
   "source": [
    "# 구구단 짝수단만 출력\n",
    "# 2단 2*2, 4단은 4*4, 6단은 6*6, 8단은 8*8\n",
    "for i in range(2, 10, 2) :\n",
    "    #print(i)\n",
    "    for j in range(1, i+1):\n",
    "        print(i, 'x', j, '=', i*j)"
   ]
  },
  {
   "cell_type": "code",
   "execution_count": 20,
   "metadata": {},
   "outputs": [
    {
     "ename": "KeyboardInterrupt",
     "evalue": "",
     "output_type": "error",
     "traceback": [
      "\u001b[1;31m---------------------------------------------------------------------------\u001b[0m",
      "\u001b[1;31mKeyboardInterrupt\u001b[0m                         Traceback (most recent call last)",
      "Cell \u001b[1;32mIn[20], line 8\u001b[0m\n\u001b[0;32m      5\u001b[0m num \u001b[38;5;241m=\u001b[39m \u001b[38;5;241m1\u001b[39m\n\u001b[0;32m      6\u001b[0m \u001b[38;5;28msum\u001b[39m \u001b[38;5;241m=\u001b[39m \u001b[38;5;241m0\u001b[39m\n\u001b[1;32m----> 8\u001b[0m \u001b[38;5;28;01mwhile\u001b[39;00m \u001b[38;5;28;01mTrue\u001b[39;00m :\n\u001b[0;32m      9\u001b[0m \n\u001b[0;32m     10\u001b[0m     \u001b[38;5;66;03m# 모든 짝수 => num%2=0, 3의 배수 => num%3 == 0\u001b[39;00m\n\u001b[0;32m     11\u001b[0m     \u001b[38;5;28;01mif\u001b[39;00m num\u001b[38;5;241m%\u001b[39m\u001b[38;5;241m2\u001b[39m \u001b[38;5;241m==\u001b[39m \u001b[38;5;241m0\u001b[39m \u001b[38;5;129;01mor\u001b[39;00m num\u001b[38;5;241m%\u001b[39m\u001b[38;5;241m3\u001b[39m \u001b[38;5;241m==\u001b[39m \u001b[38;5;241m0\u001b[39m :\n\u001b[0;32m     12\u001b[0m         \u001b[38;5;28msum\u001b[39m \u001b[38;5;241m+\u001b[39m\u001b[38;5;241m=\u001b[39m num\n",
      "\u001b[1;31mKeyboardInterrupt\u001b[0m: "
     ]
    }
   ],
   "source": [
    "# 1부터 시작하는 숫자들을 더해나간다.\n",
    "# 모든 짝수, 3의 배수 => 이숫자들을 더해나간다 => 합을 구하는 식, 조건식 이용\n",
    "# 그 합이 언제 1000을 넘어가는지 => 종료\n",
    "# 값이 얼마인지 출력\n",
    "num = 1\n",
    "sum = 0\n",
    "\n",
    "while True :\n",
    "\n",
    "    # 모든 짝수 => num%2=0, 3의 배수 => num%3 == 0\n",
    "    if num%2 == 0 or num%3 == 0 :\n",
    "        sum += num\n",
    "        print (num, sum)\n",
    "\n",
    "    if sum>1000 :\n",
    "        break\n",
    "\n",
    "num += 1\n",
    "\n",
    "print('마지막 더한 숫자 : ', num)\n",
    "print('처음으로 1000을 넘은 합 : ', sum)"
   ]
  }
 ],
 "metadata": {
  "kernelspec": {
   "display_name": "Python 3",
   "language": "python",
   "name": "python3"
  },
  "language_info": {
   "codemirror_mode": {
    "name": "ipython",
    "version": 3
   },
   "file_extension": ".py",
   "mimetype": "text/x-python",
   "name": "python",
   "nbconvert_exporter": "python",
   "pygments_lexer": "ipython3",
   "version": "3.12.5"
  }
 },
 "nbformat": 4,
 "nbformat_minor": 2
}
