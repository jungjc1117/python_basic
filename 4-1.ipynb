{
 "cells": [
  {
   "cell_type": "markdown",
   "metadata": {},
   "source": [
    "### 함수"
   ]
  },
  {
   "cell_type": "code",
   "execution_count": 1,
   "metadata": {},
   "outputs": [],
   "source": [
    "# 함수\n",
    "# : 필요한 데이터를 받아서 처리하고 필요에 따라서 처리의 결과 값을 반환하는 기능\n",
    "# 여러 처리 구문들을 묶어 놓은 것"
   ]
  },
  {
   "cell_type": "code",
   "execution_count": 2,
   "metadata": {},
   "outputs": [
    {
     "name": "stdout",
     "output_type": "stream",
     "text": [
      "들여쓰기가 안된 문장은 함수 호출과 무관하다 -> 함수 호출시에 실행되지 않는다\n",
      "프로그램 종료 ... \n"
     ]
    }
   ],
   "source": [
    "def fn() :\n",
    "\tprint('fn() 함수 내부에서 처리되는 구문입니다.')\n",
    "\tprint('함수에서 처리하는 문장들은 들여쓰기를 해주어야합니다.')\n",
    "print('들여쓰기가 안된 문장은 함수 호출과 무관하다 -> 함수 호출시에 실행되지 않는다')\n",
    "print('프로그램 종료 ... ')"
   ]
  },
  {
   "cell_type": "code",
   "execution_count": 3,
   "metadata": {},
   "outputs": [
    {
     "name": "stdout",
     "output_type": "stream",
     "text": [
      "fn() 함수 내부에서 처리되는 구문입니다.\n",
      "함수에서 처리하는 문장들은 들여쓰기를 해주어야합니다.\n"
     ]
    }
   ],
   "source": [
    "# 함수 호출\n",
    "fn()"
   ]
  },
  {
   "cell_type": "code",
   "execution_count": 4,
   "metadata": {},
   "outputs": [],
   "source": [
    "# 매개변수 : 함수가 필요한 데이터를 받는 방법\n",
    "# 매개변수는 함수선언시에 정의 -> 함수이름 뒤에 () 안에 변수를 정의해주면 된다"
   ]
  },
  {
   "cell_type": "code",
   "execution_count": 5,
   "metadata": {},
   "outputs": [],
   "source": [
    "# 두 수를 받아서 더하기 연산을 한 후 결과를 출력하는 함수\n",
    "def add(num1, num2) :\n",
    "\tresult = num1 + num2\n",
    "\tprint('전달 받은 두수의 합 :', result)"
   ]
  },
  {
   "cell_type": "code",
   "execution_count": 6,
   "metadata": {},
   "outputs": [
    {
     "name": "stdout",
     "output_type": "stream",
     "text": [
      "전달 받은 두수의 합 : 300\n"
     ]
    }
   ],
   "source": [
    "add(100, 200)"
   ]
  },
  {
   "cell_type": "code",
   "execution_count": 7,
   "metadata": {},
   "outputs": [],
   "source": [
    "# 기본 매개변수\n",
    "def print_nth(str, num=2) :\n",
    "\tfor i in range(num):\n",
    "\t\tprint (str)"
   ]
  },
  {
   "cell_type": "code",
   "execution_count": 8,
   "metadata": {},
   "outputs": [
    {
     "name": "stdout",
     "output_type": "stream",
     "text": [
      "안녕하세요\n",
      "안녕하세요\n"
     ]
    }
   ],
   "source": [
    "print_nth('안녕하세요')"
   ]
  },
  {
   "cell_type": "code",
   "execution_count": 9,
   "metadata": {},
   "outputs": [
    {
     "name": "stdout",
     "output_type": "stream",
     "text": [
      "안녕!\n",
      "안녕!\n",
      "안녕!\n",
      "안녕!\n",
      "안녕!\n"
     ]
    }
   ],
   "source": [
    "# 키워드 매개변수 => 함수 호출시 특정 변수값을 지정해서 값을 대입\n",
    "print_nth('안녕!', num=5)"
   ]
  },
  {
   "cell_type": "code",
   "execution_count": 10,
   "metadata": {},
   "outputs": [
    {
     "name": "stdout",
     "output_type": "stream",
     "text": [
      "안녕!\n",
      "안녕!\n",
      "안녕!\n"
     ]
    }
   ],
   "source": [
    "print_nth('안녕!', 3)"
   ]
  },
  {
   "cell_type": "code",
   "execution_count": 11,
   "metadata": {},
   "outputs": [
    {
     "name": "stdout",
     "output_type": "stream",
     "text": [
      "안녕!\n",
      "안녕!\n"
     ]
    }
   ],
   "source": [
    "print_nth('안녕!')"
   ]
  },
  {
   "cell_type": "code",
   "execution_count": 12,
   "metadata": {},
   "outputs": [],
   "source": [
    "# 가변 매개변수 : 매개변수의 개수가 명확하지 않는 경우 사용\n",
    "def \tprint_nth_str(num, *strs) :\n",
    "\tfor i in range(num) :\n",
    "\t\t# 가변 배개변수는 리스트 형식으로 사용\n",
    "\t\t# 이 함수에서는 strs => list\n",
    "\t\tfor value in strs :\n",
    "\t\t\tprint(value, end=' ') # end 는 print 함수의 기본 매개변수 : ₩n\n",
    "\t\t# 줄바꿈\n",
    "\t\tprint ()"
   ]
  },
  {
   "cell_type": "code",
   "execution_count": 13,
   "metadata": {},
   "outputs": [
    {
     "name": "stdout",
     "output_type": "stream",
     "text": [
      "first coding Python \n",
      "first coding Python \n",
      "first coding Python \n"
     ]
    }
   ],
   "source": [
    "print_nth_str(3, 'first', 'coding', 'Python')"
   ]
  },
  {
   "cell_type": "code",
   "execution_count": 14,
   "metadata": {},
   "outputs": [],
   "source": [
    "# return : 함수의 종료 기능, 특정 값을 반환하는 기능"
   ]
  },
  {
   "cell_type": "code",
   "execution_count": 15,
   "metadata": {},
   "outputs": [],
   "source": [
    "def plus(num1, num2) :\n",
    "\treturn num1+num2 # return 값을 호출한 곳으로 반환"
   ]
  },
  {
   "cell_type": "code",
   "execution_count": 16,
   "metadata": {},
   "outputs": [
    {
     "data": {
      "text/plain": [
       "300"
      ]
     },
     "execution_count": 16,
     "metadata": {},
     "output_type": "execute_result"
    }
   ],
   "source": [
    "plus(100, 200)"
   ]
  },
  {
   "cell_type": "code",
   "execution_count": 17,
   "metadata": {},
   "outputs": [],
   "source": [
    "# return : 함수의 종료"
   ]
  },
  {
   "cell_type": "code",
   "execution_count": 18,
   "metadata": {},
   "outputs": [],
   "source": [
    "def check_age(age) :\n",
    "\tif age < 20 :\n",
    "\t\tprint('성인만 이용가능한 컨텐츠 입니다.')\n",
    "\t\tprint('프로그램을 종료합니다.')\n",
    "\t\treturn\n",
    "\t# 성인 일 때 처리 가능한 기능\n",
    "\tprint('금융상품 정보 게시판을 이용합니다')\n",
    "\tprint('Q&A 게시판을 이용합니다.')"
   ]
  },
  {
   "cell_type": "code",
   "execution_count": 20,
   "metadata": {},
   "outputs": [
    {
     "name": "stdout",
     "output_type": "stream",
     "text": [
      "성인만 이용가능한 컨텐츠 입니다.\n",
      "프로그램을 종료합니다.\n"
     ]
    }
   ],
   "source": [
    "check_age(15)"
   ]
  },
  {
   "cell_type": "markdown",
   "metadata": {},
   "source": [
    "### 변수의 사용 범위"
   ]
  },
  {
   "cell_type": "code",
   "execution_count": 21,
   "metadata": {},
   "outputs": [],
   "source": [
    "# 지역변수 : 함수 내부에서 정의된 변수, 함수 내부에서만 참조가 가능"
   ]
  },
  {
   "cell_type": "code",
   "execution_count": 22,
   "metadata": {},
   "outputs": [],
   "source": [
    "def fn_local_var1() :\n",
    "    local_var = '함수 내부에서 선언한 지역변수'\n",
    "    print(local_var)"
   ]
  },
  {
   "cell_type": "code",
   "execution_count": 23,
   "metadata": {},
   "outputs": [
    {
     "name": "stdout",
     "output_type": "stream",
     "text": [
      "함수 내부에서 선언한 지역변수\n"
     ]
    }
   ],
   "source": [
    "fn_local_var1()"
   ]
  },
  {
   "cell_type": "code",
   "execution_count": 24,
   "metadata": {},
   "outputs": [
    {
     "ename": "NameError",
     "evalue": "name 'local_var' is not defined",
     "output_type": "error",
     "traceback": [
      "\u001b[1;31m---------------------------------------------------------------------------\u001b[0m",
      "\u001b[1;31mNameError\u001b[0m                                 Traceback (most recent call last)",
      "Cell \u001b[1;32mIn[24], line 1\u001b[0m\n\u001b[1;32m----> 1\u001b[0m \u001b[38;5;28mprint\u001b[39m(\u001b[43mlocal_var\u001b[49m)\n",
      "\u001b[1;31mNameError\u001b[0m: name 'local_var' is not defined"
     ]
    }
   ],
   "source": [
    "print(local_var)"
   ]
  },
  {
   "cell_type": "code",
   "execution_count": 25,
   "metadata": {},
   "outputs": [],
   "source": [
    "# 전역변수 : 프로그램 어디서든 사용 가능한 변수\n",
    "def func() :\n",
    "    global global_var\n",
    "    global_var = '전역 변수'\n",
    "    local_var = '지역변수'\n",
    "    print(global_var)\n",
    "    print (local_var)\n",
    "global_var = '전역변수1'"
   ]
  },
  {
   "cell_type": "code",
   "execution_count": 26,
   "metadata": {},
   "outputs": [
    {
     "name": "stdout",
     "output_type": "stream",
     "text": [
      "전역 변수\n",
      "지역변수\n"
     ]
    }
   ],
   "source": [
    "func()"
   ]
  },
  {
   "cell_type": "code",
   "execution_count": 27,
   "metadata": {},
   "outputs": [
    {
     "name": "stdout",
     "output_type": "stream",
     "text": [
      "전역 변수\n"
     ]
    }
   ],
   "source": [
    "print(global_var)"
   ]
  },
  {
   "cell_type": "markdown",
   "metadata": {},
   "source": [
    "### 람다함수"
   ]
  },
  {
   "cell_type": "code",
   "execution_count": 28,
   "metadata": {},
   "outputs": [],
   "source": [
    "# map 에 전달할 함수 정의 , map(함수, 리스트 )\n",
    "def power (num) :\n",
    "    return num*num"
   ]
  },
  {
   "cell_type": "code",
   "execution_count": 29,
   "metadata": {},
   "outputs": [],
   "source": [
    "# map 함수에 전달할 리스트\n",
    "list_map = [1,2,3,4]"
   ]
  },
  {
   "cell_type": "code",
   "execution_count": 30,
   "metadata": {},
   "outputs": [],
   "source": [
    "result_map = map(power, list_map)"
   ]
  },
  {
   "cell_type": "code",
   "execution_count": 31,
   "metadata": {},
   "outputs": [
    {
     "data": {
      "text/plain": [
       "[1, 4, 9, 16]"
      ]
     },
     "execution_count": 31,
     "metadata": {},
     "output_type": "execute_result"
    }
   ],
   "source": [
    "list(result_map)"
   ]
  },
  {
   "cell_type": "code",
   "execution_count": 32,
   "metadata": {},
   "outputs": [],
   "source": [
    "# filter : filter(함수, 리스트)\n",
    "# 함수의 역할 : 조건에 맞는 데이터 True, False\n",
    "# 함수 : 논리값을 반환"
   ]
  },
  {
   "cell_type": "code",
   "execution_count": 33,
   "metadata": {},
   "outputs": [],
   "source": [
    "def under_check(num) :\n",
    "    return num < 5"
   ]
  },
  {
   "cell_type": "code",
   "execution_count": 34,
   "metadata": {},
   "outputs": [],
   "source": [
    "# filter 함수에 전달할 리스트\n",
    "list_num = [1,2,3,4,5,6,7]"
   ]
  },
  {
   "cell_type": "code",
   "execution_count": 35,
   "metadata": {},
   "outputs": [],
   "source": [
    "result_filter = filter(under_check, list_num)"
   ]
  },
  {
   "cell_type": "code",
   "execution_count": 36,
   "metadata": {},
   "outputs": [
    {
     "data": {
      "text/plain": [
       "[1, 2, 3, 4]"
      ]
     },
     "execution_count": 36,
     "metadata": {},
     "output_type": "execute_result"
    }
   ],
   "source": [
    "list(result_filter)"
   ]
  },
  {
   "cell_type": "code",
   "execution_count": 37,
   "metadata": {},
   "outputs": [],
   "source": [
    "# 람다함수의 정의\n",
    "lambda_power = lambda num : num*num\n",
    "lambda_under_check = lambda num : num<5"
   ]
  },
  {
   "cell_type": "code",
   "execution_count": 38,
   "metadata": {},
   "outputs": [
    {
     "data": {
      "text/plain": [
       "9"
      ]
     },
     "execution_count": 38,
     "metadata": {},
     "output_type": "execute_result"
    }
   ],
   "source": [
    "lambda_power (3)"
   ]
  },
  {
   "cell_type": "code",
   "execution_count": 39,
   "metadata": {},
   "outputs": [
    {
     "data": {
      "text/plain": [
       "False"
      ]
     },
     "execution_count": 39,
     "metadata": {},
     "output_type": "execute_result"
    }
   ],
   "source": [
    "lambda_under_check(5)"
   ]
  },
  {
   "cell_type": "code",
   "execution_count": 40,
   "metadata": {},
   "outputs": [],
   "source": [
    "list_num = [1,2,3,4,5,6,7,8,9,10]"
   ]
  },
  {
   "cell_type": "code",
   "execution_count": 41,
   "metadata": {},
   "outputs": [
    {
     "name": "stdout",
     "output_type": "stream",
     "text": [
      "result_map :  [1, 4, 9, 16, 25, 36, 49, 64, 81, 100]\n"
     ]
    }
   ],
   "source": [
    "# map 함수를 이용해서 새로운 리스트 생성\n",
    "result_map = map(lambda_power, list_num)\n",
    "print ('result_map : ', list(result_map))"
   ]
  },
  {
   "cell_type": "code",
   "execution_count": 42,
   "metadata": {},
   "outputs": [
    {
     "name": "stdout",
     "output_type": "stream",
     "text": [
      "result_map2: [2, 4, 6, 8, 10, 12, 14, 16, 18, 20]\n"
     ]
    }
   ],
   "source": [
    "result_map2 = map(lambda num: num*2, list_num)\n",
    "print('result_map2:', list(result_map2))"
   ]
  },
  {
   "cell_type": "code",
   "execution_count": 43,
   "metadata": {},
   "outputs": [],
   "source": [
    "# filter 함수를 이용해서 새로운 리스트를 생성\n",
    "result_filter = filter(lambda num : num<5, list_num)"
   ]
  },
  {
   "cell_type": "code",
   "execution_count": 44,
   "metadata": {},
   "outputs": [
    {
     "name": "stdout",
     "output_type": "stream",
     "text": [
      "result_filter: [1, 2, 3, 4]\n"
     ]
    }
   ],
   "source": [
    "print('result_filter:', list(result_filter))"
   ]
  },
  {
   "cell_type": "code",
   "execution_count": null,
   "metadata": {},
   "outputs": [],
   "source": []
  }
 ],
 "metadata": {
  "kernelspec": {
   "display_name": "Python 3",
   "language": "python",
   "name": "python3"
  },
  "language_info": {
   "codemirror_mode": {
    "name": "ipython",
    "version": 3
   },
   "file_extension": ".py",
   "mimetype": "text/x-python",
   "name": "python",
   "nbconvert_exporter": "python",
   "pygments_lexer": "ipython3",
   "version": "3.12.5"
  }
 },
 "nbformat": 4,
 "nbformat_minor": 2
}
