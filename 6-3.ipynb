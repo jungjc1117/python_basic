{
 "cells": [
  {
   "cell_type": "code",
   "execution_count": 5,
   "metadata": {},
   "outputs": [
    {
     "ename": "NameError",
     "evalue": "name 'Student' is not defined",
     "output_type": "error",
     "traceback": [
      "\u001b[1;31m---------------------------------------------------------------------------\u001b[0m",
      "\u001b[1;31mNameError\u001b[0m                                 Traceback (most recent call last)",
      "Cell \u001b[1;32mIn[5], line 3\u001b[0m\n\u001b[0;32m      1\u001b[0m \u001b[38;5;66;03m# 학생 정보 리스트\u001b[39;00m\n\u001b[0;32m      2\u001b[0m students \u001b[38;5;241m=\u001b[39m [\n\u001b[1;32m----> 3\u001b[0m     \u001b[43mStudent\u001b[49m (\u001b[38;5;124m'\u001b[39m\u001b[38;5;124mAAA\u001b[39m\u001b[38;5;124m'\u001b[39m, \u001b[38;5;241m87\u001b[39m,\u001b[38;5;241m98\u001b[39m,\u001b[38;5;241m88\u001b[39m,\u001b[38;5;241m95\u001b[39m),\n\u001b[0;32m      4\u001b[0m     Student (\u001b[38;5;124m'\u001b[39m\u001b[38;5;124mBBB\u001b[39m\u001b[38;5;124m'\u001b[39m, \u001b[38;5;241m92\u001b[39m,\u001b[38;5;241m98\u001b[39m,\u001b[38;5;241m96\u001b[39m,\u001b[38;5;241m98\u001b[39m),\n\u001b[0;32m      5\u001b[0m     Student (\u001b[38;5;124m'\u001b[39m\u001b[38;5;124mCCC\u001b[39m\u001b[38;5;124m'\u001b[39m, \u001b[38;5;241m76\u001b[39m,\u001b[38;5;241m96\u001b[39m,\u001b[38;5;241m94\u001b[39m,\u001b[38;5;241m90\u001b[39m),\n\u001b[0;32m      6\u001b[0m     Student (\u001b[38;5;124m'\u001b[39m\u001b[38;5;124mDDD\u001b[39m\u001b[38;5;124m'\u001b[39m, \u001b[38;5;241m98\u001b[39m,\u001b[38;5;241m92\u001b[39m,\u001b[38;5;241m96\u001b[39m,\u001b[38;5;241m92\u001b[39m),\n\u001b[0;32m      7\u001b[0m     Student (\u001b[38;5;124m'\u001b[39m\u001b[38;5;124mEEE\u001b[39m\u001b[38;5;124m'\u001b[39m, \u001b[38;5;241m95\u001b[39m,\u001b[38;5;241m98\u001b[39m,\u001b[38;5;241m98\u001b[39m,\u001b[38;5;241m98\u001b[39m),\n\u001b[0;32m      8\u001b[0m     Student (\u001b[38;5;124m'\u001b[39m\u001b[38;5;124mFFF\u001b[39m\u001b[38;5;124m'\u001b[39m, \u001b[38;5;241m64\u001b[39m,\u001b[38;5;241m88\u001b[39m,\u001b[38;5;241m92\u001b[39m,\u001b[38;5;241m92\u001b[39m),\n\u001b[0;32m      9\u001b[0m ]\n",
      "\u001b[1;31mNameError\u001b[0m: name 'Student' is not defined"
     ]
    }
   ],
   "source": [
    "# 학생 정보 리스트\n",
    "students = [\n",
    "    Student ('AAA', 87,98,88,95),\n",
    "    Student ('BBB', 92,98,96,98),\n",
    "    Student ('CCC', 76,96,94,90),\n",
    "    Student ('DDD', 98,92,96,92),\n",
    "    Student ('EEE', 95,98,98,98),\n",
    "    Student ('FFF', 64,88,92,92),\n",
    "]"
   ]
  },
  {
   "cell_type": "code",
   "execution_count": 2,
   "metadata": {},
   "outputs": [
    {
     "ename": "NameError",
     "evalue": "name 'students' is not defined",
     "output_type": "error",
     "traceback": [
      "\u001b[1;31m---------------------------------------------------------------------------\u001b[0m",
      "\u001b[1;31mNameError\u001b[0m                                 Traceback (most recent call last)",
      "Cell \u001b[1;32mIn[2], line 1\u001b[0m\n\u001b[1;32m----> 1\u001b[0m \u001b[38;5;28mprint\u001b[39m(\u001b[43mstudents\u001b[49m[\u001b[38;5;241m0\u001b[39m]\u001b[38;5;241m.\u001b[39mto_string())\n",
      "\u001b[1;31mNameError\u001b[0m: name 'students' is not defined"
     ]
    }
   ],
   "source": [
    "print(students[0].to_string())"
   ]
  },
  {
   "cell_type": "code",
   "execution_count": 6,
   "metadata": {},
   "outputs": [
    {
     "name": "stdout",
     "output_type": "stream",
     "text": [
      "이름Wt총점Wt평균\n"
     ]
    },
    {
     "ename": "NameError",
     "evalue": "name 'students' is not defined",
     "output_type": "error",
     "traceback": [
      "\u001b[1;31m---------------------------------------------------------------------------\u001b[0m",
      "\u001b[1;31mNameError\u001b[0m                                 Traceback (most recent call last)",
      "Cell \u001b[1;32mIn[6], line 3\u001b[0m\n\u001b[0;32m      1\u001b[0m \u001b[38;5;66;03m# 학생의 정보를 출력\u001b[39;00m\n\u001b[0;32m      2\u001b[0m \u001b[38;5;28mprint\u001b[39m(\u001b[38;5;124m'\u001b[39m\u001b[38;5;124m이름\u001b[39m\u001b[38;5;124m'\u001b[39m, \u001b[38;5;124m'\u001b[39m\u001b[38;5;124m총점\u001b[39m\u001b[38;5;124m'\u001b[39m, \u001b[38;5;124m'\u001b[39m\u001b[38;5;124m평균\u001b[39m\u001b[38;5;124m'\u001b[39m, sep\u001b[38;5;241m=\u001b[39m\u001b[38;5;124m\"\u001b[39m\u001b[38;5;124mWt\u001b[39m\u001b[38;5;124m\"\u001b[39m)\n\u001b[1;32m----> 3\u001b[0m \u001b[38;5;28;01mfor\u001b[39;00m student \u001b[38;5;129;01min\u001b[39;00m \u001b[43mstudents\u001b[49m :\n\u001b[0;32m      4\u001b[0m \u001b[38;5;66;03m# 학생 정보 출력\u001b[39;00m\n\u001b[0;32m      5\u001b[0m     \u001b[38;5;28mprint\u001b[39m(student\u001b[38;5;241m.\u001b[39m to_string())\n",
      "\u001b[1;31mNameError\u001b[0m: name 'students' is not defined"
     ]
    }
   ],
   "source": [
    "# 학생의 정보를 출력\n",
    "print('이름', '총점', '평균', sep=\"Wt\")\n",
    "for student in students :\n",
    "# 학생 정보 출력\n",
    "    print(student. to_string())"
   ]
  },
  {
   "cell_type": "code",
   "execution_count": 7,
   "metadata": {},
   "outputs": [
    {
     "ename": "NameError",
     "evalue": "name 'students' is not defined",
     "output_type": "error",
     "traceback": [
      "\u001b[1;31m---------------------------------------------------------------------------\u001b[0m",
      "\u001b[1;31mNameError\u001b[0m                                 Traceback (most recent call last)",
      "Cell \u001b[1;32mIn[7], line 1\u001b[0m\n\u001b[1;32m----> 1\u001b[0m \u001b[38;5;28mprint\u001b[39m(\u001b[43mstudents\u001b[49m[\u001b[38;5;241m0\u001b[39m] \u001b[38;5;241m==\u001b[39m students[\u001b[38;5;241m1\u001b[39m])\n\u001b[0;32m      2\u001b[0m \u001b[38;5;28mprint\u001b[39m(students[\u001b[38;5;241m0\u001b[39m] \u001b[38;5;241m!=\u001b[39m students[\u001b[38;5;241m1\u001b[39m])\n\u001b[0;32m      3\u001b[0m \u001b[38;5;28mprint\u001b[39m(students[\u001b[38;5;241m0\u001b[39m] \u001b[38;5;241m>\u001b[39m students[\u001b[38;5;241m1\u001b[39m])\n",
      "\u001b[1;31mNameError\u001b[0m: name 'students' is not defined"
     ]
    }
   ],
   "source": [
    "print(students[0] == students[1])\n",
    "print(students[0] != students[1])\n",
    "print(students[0] > students[1])\n",
    "print(students[1] > students[0])"
   ]
  },
  {
   "cell_type": "code",
   "execution_count": 8,
   "metadata": {},
   "outputs": [],
   "source": [
    "# 간단한 학생 성적관리 프로그램\n",
    "# 학생 클래스 생성\n",
    "# 속성 : 이름, 국어, 영어, 수학, 과학,\n",
    "# 기능 : 총점을 구하는 함수, 평균을 구하는 함수"
   ]
  },
  {
   "cell_type": "code",
   "execution_count": 9,
   "metadata": {},
   "outputs": [],
   "source": [
    "class Student :\n",
    "    def __init__(self, name, kor, math, eng, sci) :\n",
    "        self.name = name\n",
    "        self.korean = korean\n",
    "        self.math = math\n",
    "        self.eng = eng\n",
    "        self.sci = sci"
   ]
  },
  {
   "cell_type": "code",
   "execution_count": 10,
   "metadata": {},
   "outputs": [],
   "source": [
    "# 총합을 구하는 메서드\n",
    "def get_sum(self):\n",
    "    return self.kor + self.math + self.eng + self.sci"
   ]
  },
  {
   "cell_type": "code",
   "execution_count": 11,
   "metadata": {},
   "outputs": [],
   "source": [
    "# 평균 점수를 구하는 메서드\n",
    "def get_avg(self):\n",
    "    return self.get_sum() / 4"
   ]
  },
  {
   "cell_type": "code",
   "execution_count": 12,
   "metadata": {},
   "outputs": [],
   "source": [
    "# 학생 정보 출력 메서드 : 이름 총점 평균점수\n",
    "def to_string(self) :\n",
    "    return '{0}Wt{1}Wt{2}'.format(self.name, self.get_sum(), self.get_avg())"
   ]
  }
 ],
 "metadata": {
  "kernelspec": {
   "display_name": "Python 3",
   "language": "python",
   "name": "python3"
  },
  "language_info": {
   "codemirror_mode": {
    "name": "ipython",
    "version": 3
   },
   "file_extension": ".py",
   "mimetype": "text/x-python",
   "name": "python",
   "nbconvert_exporter": "python",
   "pygments_lexer": "ipython3",
   "version": "3.12.5"
  }
 },
 "nbformat": 4,
 "nbformat_minor": 2
}
