{
 "cells": [
  {
   "cell_type": "markdown",
   "metadata": {},
   "source": [
    "### 예외처리"
   ]
  },
  {
   "cell_type": "code",
   "execution_count": 7,
   "metadata": {},
   "outputs": [
    {
     "ename": "ZeroDivisionError",
     "evalue": "division by zero",
     "output_type": "error",
     "traceback": [
      "\u001b[1;31m---------------------------------------------------------------------------\u001b[0m",
      "\u001b[1;31mZeroDivisionError\u001b[0m                         Traceback (most recent call last)",
      "Cell \u001b[1;32mIn[7], line 2\u001b[0m\n\u001b[0;32m      1\u001b[0m \u001b[38;5;28;01mfor\u001b[39;00m i \u001b[38;5;129;01min\u001b[39;00m \u001b[38;5;28mrange\u001b[39m(\u001b[38;5;241m5\u001b[39m): \u001b[38;5;66;03m# 0~4\u001b[39;00m\n\u001b[1;32m----> 2\u001b[0m \t\u001b[38;5;28mprint\u001b[39m(\u001b[38;5;241;43m10\u001b[39;49m\u001b[38;5;241;43m/\u001b[39;49m\u001b[43mi\u001b[49m)\n",
      "\u001b[1;31mZeroDivisionError\u001b[0m: division by zero"
     ]
    }
   ],
   "source": [
    "for i in range(5): # 0~4\n",
    "\tprint(10/i)"
   ]
  },
  {
   "cell_type": "code",
   "execution_count": null,
   "metadata": {},
   "outputs": [
    {
     "ename": "SyntaxError",
     "evalue": "unterminated string literal (detected at line 1) (301415358.py, line 1)",
     "output_type": "error",
     "traceback": [
      "\u001b[1;36m  Cell \u001b[1;32mIn[2], line 1\u001b[1;36m\u001b[0m\n\u001b[1;33m    print(\"abc)\u001b[0m\n\u001b[1;37m          ^\u001b[0m\n\u001b[1;31mSyntaxError\u001b[0m\u001b[1;31m:\u001b[0m unterminated string literal (detected at line 1)\n"
     ]
    }
   ],
   "source": [
    "print(\"abc)"
   ]
  },
  {
   "cell_type": "code",
   "execution_count": null,
   "metadata": {},
   "outputs": [
    {
     "name": "stdout",
     "output_type": "stream",
     "text": [
      "에러 메시지 : division by zero\n",
      "0으로 나누는 연산은 할수가 없습니다.\n",
      "10.0\n",
      "5.0\n",
      "3.3333333333333335\n",
      "2.5\n"
     ]
    }
   ],
   "source": [
    "for i in range(5) :\n",
    "    try :\n",
    "        print(10/i)\n",
    "    except ZeroDivisionError as e :\n",
    "        print('에러 메시지 :', e)\n",
    "        print('0으로 나누는 연산은 할수가 없습니다.')"
   ]
  },
  {
   "cell_type": "code",
   "execution_count": null,
   "metadata": {},
   "outputs": [
    {
     "name": "stdout",
     "output_type": "stream",
     "text": [
      "0으로 나누는 연산은 할수가 없습니다.\n",
      ">>>>> 1 번째 연산 수행\n",
      "10.0\n",
      ">>>>> 2 번째 연산 수행\n",
      "5.0\n",
      ">>>>> 3 번째 연산 수행\n",
      "3.3333333333333335\n",
      ">>>>> 4 번째 연산 수행\n",
      "2.5\n",
      ">>>>> 5 번째 연산 수행\n"
     ]
    }
   ],
   "source": [
    "for i in range(5) :\n",
    "    try :\n",
    "        print(10/i)\n",
    "    except ZeroDivisionError :\n",
    "        print('0으로 나누는 연산은 할수가 없습니다.')\n",
    "    finally : # 예외 발생과 상관 없이 무조건 실행하는 구문 => try 블록에 들어오면 !!!\n",
    "        print ( '>>>>>', i+1,'번째 연산 수행')"
   ]
  },
  {
   "cell_type": "code",
   "execution_count": 8,
   "metadata": {},
   "outputs": [
    {
     "name": "stdout",
     "output_type": "stream",
     "text": [
      "사용자가 입력한 숫자 :  52342\n"
     ]
    },
    {
     "ename": "ValueError",
     "evalue": "숫자값을 입력하지 않았습니다.",
     "output_type": "error",
     "traceback": [
      "\u001b[1;31m---------------------------------------------------------------------------\u001b[0m",
      "\u001b[1;31mValueError\u001b[0m                                Traceback (most recent call last)",
      "Cell \u001b[1;32mIn[8], line 7\u001b[0m\n\u001b[0;32m      3\u001b[0m \u001b[38;5;28;01mfor\u001b[39;00m digit \u001b[38;5;129;01min\u001b[39;00m value :\n\u001b[0;32m      4\u001b[0m     \u001b[38;5;66;03m# 사용자가 입력한 문자열중 문자 하나가 '0123456789' 문자열안의 요소에 포함여부\u001b[39;00m\n\u001b[0;32m      5\u001b[0m     \u001b[38;5;28;01mif\u001b[39;00m digit \u001b[38;5;129;01mnot\u001b[39;00m \u001b[38;5;129;01min\u001b[39;00m \u001b[38;5;124m'\u001b[39m\u001b[38;5;124m0123456789\u001b[39m\u001b[38;5;124m'\u001b[39m :\n\u001b[0;32m      6\u001b[0m         \u001b[38;5;66;03m# 예외 발생 ( 사용자가 임의 발생 )\u001b[39;00m\n\u001b[1;32m----> 7\u001b[0m         \u001b[38;5;28;01mraise\u001b[39;00m \u001b[38;5;167;01mValueError\u001b[39;00m(\u001b[38;5;124m'\u001b[39m\u001b[38;5;124m숫자값을 입력하지 않았습니다.\u001b[39m\u001b[38;5;124m'\u001b[39m)\n\u001b[0;32m      8\u001b[0m \u001b[38;5;28mprint\u001b[39m(\u001b[38;5;124m'\u001b[39m\u001b[38;5;124m사용자가 입력한 숫자 : \u001b[39m\u001b[38;5;124m'\u001b[39m, \u001b[38;5;28mint\u001b[39m(value))\n",
      "\u001b[1;31mValueError\u001b[0m: 숫자값을 입력하지 않았습니다."
     ]
    }
   ],
   "source": [
    "while True :\n",
    "    value = input ('숫자를 입력하세요 >>>>> ') # value => 문자열 str\n",
    "    for digit in value :\n",
    "        # 사용자가 입력한 문자열중 문자 하나가 '0123456789' 문자열안의 요소에 포함여부\n",
    "        if digit not in '0123456789' :\n",
    "            # 예외 발생 ( 사용자가 임의 발생 )\n",
    "            raise ValueError('숫자값을 입력하지 않았습니다.')\n",
    "    print('사용자가 입력한 숫자 : ', int(value))"
   ]
  }
 ],
 "metadata": {
  "kernelspec": {
   "display_name": "Python 3",
   "language": "python",
   "name": "python3"
  },
  "language_info": {
   "codemirror_mode": {
    "name": "ipython",
    "version": 3
   },
   "file_extension": ".py",
   "mimetype": "text/x-python",
   "name": "python",
   "nbconvert_exporter": "python",
   "pygments_lexer": "ipython3",
   "version": "3.12.5"
  }
 },
 "nbformat": 4,
 "nbformat_minor": 2
}
